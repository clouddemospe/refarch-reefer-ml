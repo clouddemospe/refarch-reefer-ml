{
 "cells": [
  {
   "cell_type": "code",
   "execution_count": 14,
   "metadata": {},
   "outputs": [],
   "source": [
    "import pandas as pd\n",
    "import numpy as np\n",
    "from sklearn import linear_model\n",
    "from sklearn import metrics\n",
    "import sys\n",
    "if sys.version_info[0] < 3: \n",
    "    from StringIO import StringIO\n",
    "else:\n",
    "    from io import StringIO"
   ]
  },
  {
   "cell_type": "code",
   "execution_count": 15,
   "metadata": {},
   "outputs": [
    {
     "data": {
      "text/html": [
       "<div>\n",
       "<style scoped>\n",
       "    .dataframe tbody tr th:only-of-type {\n",
       "        vertical-align: middle;\n",
       "    }\n",
       "\n",
       "    .dataframe tbody tr th {\n",
       "        vertical-align: top;\n",
       "    }\n",
       "\n",
       "    .dataframe thead th {\n",
       "        text-align: right;\n",
       "    }\n",
       "</style>\n",
       "<table border=\"1\" class=\"dataframe\">\n",
       "  <thead>\n",
       "    <tr style=\"text-align: right;\">\n",
       "      <th></th>\n",
       "      <th>temperature</th>\n",
       "      <th>target_temperature</th>\n",
       "      <th>ambiant_temperature</th>\n",
       "      <th>oxygen_level</th>\n",
       "      <th>carbon_dioxide_level</th>\n",
       "      <th>humidity_level</th>\n",
       "      <th>nitrogen_level</th>\n",
       "      <th>vent_1</th>\n",
       "      <th>vent_2</th>\n",
       "      <th>vent_3</th>\n",
       "      <th>kilowatts</th>\n",
       "      <th>content_type</th>\n",
       "      <th>time_door_open</th>\n",
       "      <th>defrost_cycle</th>\n",
       "    </tr>\n",
       "  </thead>\n",
       "  <tbody>\n",
       "    <tr>\n",
       "      <th>0</th>\n",
       "      <td>4.291843</td>\n",
       "      <td>4.4</td>\n",
       "      <td>18</td>\n",
       "      <td>0.8</td>\n",
       "      <td>59</td>\n",
       "      <td>10</td>\n",
       "      <td>78</td>\n",
       "      <td>True</td>\n",
       "      <td>True</td>\n",
       "      <td>True</td>\n",
       "      <td>3.40775</td>\n",
       "      <td>2</td>\n",
       "      <td>0</td>\n",
       "      <td>6</td>\n",
       "    </tr>\n",
       "  </tbody>\n",
       "</table>\n",
       "</div>"
      ],
      "text/plain": [
       "   temperature  target_temperature  ambiant_temperature  oxygen_level  \\\n",
       "0     4.291843                 4.4                   18           0.8   \n",
       "\n",
       "   carbon_dioxide_level  humidity_level  nitrogen_level  vent_1  vent_2  \\\n",
       "0                    59              10              78    True    True   \n",
       "\n",
       "   vent_3  kilowatts  content_type  time_door_open  defrost_cycle  \n",
       "0    True    3.40775             2               0              6  "
      ]
     },
     "execution_count": 15,
     "metadata": {},
     "output_type": "execute_result"
    }
   ],
   "source": [
    "DATA='''\n",
    "temperature,target_temperature,ambiant_temperature,oxygen_level,carbon_dioxide_level,humidity_level,nitrogen_level,vent_1,vent_2,vent_3,kilowatts,content_type,time_door_open,defrost_cycle\n",
    "''' + \"\\n\" + '''\n",
    "4.291843460900875,4.4,18,.8, 59, 10, 78,True,True,True,3.4077503,2,0,6\n",
    "'''\n",
    "\n",
    "TESTDATA = StringIO(DATA)\n",
    "data = pd.read_csv(TESTDATA, sep=\",\")\n",
    "# data.columns = data.columns.to_series().apply(lambda x: x.strip())\n",
    "data.head()"
   ]
  },
  {
   "cell_type": "code",
   "execution_count": 16,
   "metadata": {},
   "outputs": [
    {
     "name": "stdout",
     "output_type": "stream",
     "text": [
      "   temperature  target_temperature  ambiant_temperature  kilowatts  \\\n",
      "0     4.291843                 4.4                   18    3.40775   \n",
      "\n",
      "   time_door_open  content_type  defrost_cycle  oxygen_level  nitrogen_level  \\\n",
      "0               0             2              6           0.8              78   \n",
      "\n",
      "   humidity_level  carbon_dioxide_level  vent_1  vent_2  vent_3  \n",
      "0              10                    59    True    True    True  \n"
     ]
    }
   ],
   "source": [
    "# create a Python list of feature names\n",
    "feature_cols = [\"temperature\",\"target_temperature\", \"ambiant_temperature\", \n",
    "                \"kilowatts\", \"time_door_open\",\n",
    "                \"content_type\", \"defrost_cycle\",\n",
    "                \"oxygen_level\", \"nitrogen_level\", \"humidity_level\",\"carbon_dioxide_level\", \n",
    "                \"vent_1\", \"vent_2\", \"vent_3\"]\n",
    "# use the list to select a subset of the original DataFrame\n",
    "X = data[feature_cols]\n",
    "print( X )\n",
    "\n",
    "# print the first 5 rows\n"
   ]
  },
  {
   "cell_type": "code",
   "execution_count": 17,
   "metadata": {},
   "outputs": [],
   "source": [
    "# use pickle to save the model for future loading\n",
    "\n",
    "import pickle\n",
    "\n",
    "# loading the serialized model pickle file\n",
    "model = pickle.load(open(\"model_logistic_regression.pkl\",\"rb\"),encoding='latin1')\n"
   ]
  },
  {
   "cell_type": "code",
   "execution_count": 18,
   "metadata": {},
   "outputs": [
    {
     "name": "stdout",
     "output_type": "stream",
     "text": [
      "X=     temperature  target_temperature  ambiant_temperature  kilowatts  \\\n",
      "0     4.291843                 4.4                   18    3.40775   \n",
      "\n",
      "   time_door_open  content_type  defrost_cycle  oxygen_level  nitrogen_level  \\\n",
      "0               0             2              6           0.8              78   \n",
      "\n",
      "   humidity_level  carbon_dioxide_level  vent_1  vent_2  vent_3  \n",
      "0              10                    59    True    True    True  \n",
      "prediction is: [0]\n"
     ]
    }
   ],
   "source": [
    "# make predictions on the input set\n",
    "print (\"X= \",X)\n",
    "y_pred = model.predict(X)\n",
    "print ('prediction is:', y_pred)\n",
    "#y_pred.shape\n",
    "#print(np.sqrt(metrics.mean_squared_error(y, y_pred)))"
   ]
  },
  {
   "cell_type": "code",
   "execution_count": null,
   "metadata": {},
   "outputs": [],
   "source": []
  }
 ],
 "metadata": {
  "kernelspec": {
   "display_name": "Python 3",
   "language": "python",
   "name": "python3"
  },
  "language_info": {
   "codemirror_mode": {
    "name": "ipython",
    "version": 3
   },
   "file_extension": ".py",
   "mimetype": "text/x-python",
   "name": "python",
   "nbconvert_exporter": "python",
   "pygments_lexer": "ipython3",
   "version": "3.7.3"
  }
 },
 "nbformat": 4,
 "nbformat_minor": 2
}
