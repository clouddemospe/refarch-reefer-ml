{
 "cells": [
  {
   "cell_type": "code",
   "execution_count": 1,
   "metadata": {},
   "outputs": [],
   "source": [
    "import pandas as pd\n",
    "import pylab as pl\n",
    "import numpy as np\n",
    "import scipy.optimize as opt\n",
    "from urllib.parse import urlparse\n",
    "import psycopg2, os\n",
    "from sklearn import preprocessing\n",
    "from sqlalchemy import create_engine\n",
    "%matplotlib inline \n",
    "import matplotlib.pyplot as plt"
   ]
  },
  {
   "cell_type": "code",
   "execution_count": 3,
   "metadata": {},
   "outputs": [
    {
     "name": "stdout",
     "output_type": "stream",
     "text": [
      "ParseResult(scheme='postgres', netloc='ibm_cloud_33e066c0_e55c_44a9_82eb_e4e2fbba067e:dca85a571fb4251d03f92ae4a30edea05dd36e9b5fb77303f51d9b06eb6f6b1b@dc2537b1-f539-4308-aec9-73a918fe9827.bkvfu0nd0m8k95k94ujg.databases.appdomain.cloud:32347', path='/ibmclouddb', params='', query='sslmode=disable', fragment='')\n"
     ]
    }
   ],
   "source": [
    "postgresURL=urlparse(os.getenv('POSTGRES_URL'))\n",
    "print(postgresURL)\n",
    "connection = psycopg2.connect(host=postgresURL.hostname,\n",
    "                        port=postgresURL.port,\n",
    "                        user=postgresURL.username,\n",
    "                        password=postgresURL.password,\n",
    "                        sslmode='verify-full',\n",
    "                        sslrootcert='/home/jovyan/postgres.pem',\n",
    "                        database='ibmclouddb')"
   ]
  },
  {
   "cell_type": "code",
   "execution_count": 4,
   "metadata": {
    "scrolled": true
   },
   "outputs": [
    {
     "data": {
      "text/html": [
       "<div>\n",
       "<style scoped>\n",
       "    .dataframe tbody tr th:only-of-type {\n",
       "        vertical-align: middle;\n",
       "    }\n",
       "\n",
       "    .dataframe tbody tr th {\n",
       "        vertical-align: top;\n",
       "    }\n",
       "\n",
       "    .dataframe thead th {\n",
       "        text-align: right;\n",
       "    }\n",
       "</style>\n",
       "<table border=\"1\" class=\"dataframe\">\n",
       "  <thead>\n",
       "    <tr style=\"text-align: right;\">\n",
       "      <th></th>\n",
       "      <th>measurement_time</th>\n",
       "      <th>temperature</th>\n",
       "      <th>target_temperature</th>\n",
       "      <th>ambiant_temperature</th>\n",
       "      <th>kilowatts</th>\n",
       "      <th>content_type</th>\n",
       "      <th>oxygen_level</th>\n",
       "      <th>nitrogen_level</th>\n",
       "      <th>carbon_dioxide_level</th>\n",
       "      <th>humidity_level</th>\n",
       "      <th>vent_1</th>\n",
       "      <th>vent_2</th>\n",
       "      <th>vent_3</th>\n",
       "      <th>time_door_open</th>\n",
       "      <th>defrost_cycle</th>\n",
       "      <th>maintenance_required</th>\n",
       "    </tr>\n",
       "  </thead>\n",
       "  <tbody>\n",
       "    <tr>\n",
       "      <th>0</th>\n",
       "      <td>2019-09-16 23:41:28.424611</td>\n",
       "      <td>4.00000</td>\n",
       "      <td>4.0</td>\n",
       "      <td>18.0000</td>\n",
       "      <td>NaN</td>\n",
       "      <td>NaN</td>\n",
       "      <td>NaN</td>\n",
       "      <td>NaN</td>\n",
       "      <td>NaN</td>\n",
       "      <td>NaN</td>\n",
       "      <td>None</td>\n",
       "      <td>None</td>\n",
       "      <td>None</td>\n",
       "      <td>NaN</td>\n",
       "      <td>NaN</td>\n",
       "      <td>NaN</td>\n",
       "    </tr>\n",
       "    <tr>\n",
       "      <th>1</th>\n",
       "      <td>2019-09-24 23:09:43.684149</td>\n",
       "      <td>6.68969</td>\n",
       "      <td>6.0</td>\n",
       "      <td>22.4282</td>\n",
       "      <td>2.927570</td>\n",
       "      <td>2.0</td>\n",
       "      <td>21.4124</td>\n",
       "      <td>-0.378142</td>\n",
       "      <td>4.03737</td>\n",
       "      <td>0.577301</td>\n",
       "      <td>True</td>\n",
       "      <td>True</td>\n",
       "      <td>True</td>\n",
       "      <td>1.619410</td>\n",
       "      <td>4.0</td>\n",
       "      <td>0.0</td>\n",
       "    </tr>\n",
       "    <tr>\n",
       "      <th>2</th>\n",
       "      <td>2019-09-24 23:14:43.684149</td>\n",
       "      <td>5.64922</td>\n",
       "      <td>6.0</td>\n",
       "      <td>18.5116</td>\n",
       "      <td>0.501211</td>\n",
       "      <td>2.0</td>\n",
       "      <td>19.6814</td>\n",
       "      <td>2.460760</td>\n",
       "      <td>4.24245</td>\n",
       "      <td>1.201170</td>\n",
       "      <td>True</td>\n",
       "      <td>True</td>\n",
       "      <td>True</td>\n",
       "      <td>0.170088</td>\n",
       "      <td>6.0</td>\n",
       "      <td>0.0</td>\n",
       "    </tr>\n",
       "    <tr>\n",
       "      <th>3</th>\n",
       "      <td>2019-09-24 23:19:43.684149</td>\n",
       "      <td>4.91638</td>\n",
       "      <td>6.0</td>\n",
       "      <td>20.8881</td>\n",
       "      <td>2.636550</td>\n",
       "      <td>2.0</td>\n",
       "      <td>20.7648</td>\n",
       "      <td>1.601000</td>\n",
       "      <td>2.75441</td>\n",
       "      <td>2.501910</td>\n",
       "      <td>True</td>\n",
       "      <td>True</td>\n",
       "      <td>True</td>\n",
       "      <td>2.273720</td>\n",
       "      <td>6.0</td>\n",
       "      <td>0.0</td>\n",
       "    </tr>\n",
       "    <tr>\n",
       "      <th>4</th>\n",
       "      <td>2019-09-24 23:24:43.684149</td>\n",
       "      <td>4.23752</td>\n",
       "      <td>6.0</td>\n",
       "      <td>20.1854</td>\n",
       "      <td>3.071450</td>\n",
       "      <td>2.0</td>\n",
       "      <td>21.1276</td>\n",
       "      <td>0.601678</td>\n",
       "      <td>2.54371</td>\n",
       "      <td>-0.589239</td>\n",
       "      <td>True</td>\n",
       "      <td>True</td>\n",
       "      <td>True</td>\n",
       "      <td>1.029000</td>\n",
       "      <td>3.0</td>\n",
       "      <td>0.0</td>\n",
       "    </tr>\n",
       "  </tbody>\n",
       "</table>\n",
       "</div>"
      ],
      "text/plain": [
       "            measurement_time  temperature  target_temperature  \\\n",
       "0 2019-09-16 23:41:28.424611      4.00000                 4.0   \n",
       "1 2019-09-24 23:09:43.684149      6.68969                 6.0   \n",
       "2 2019-09-24 23:14:43.684149      5.64922                 6.0   \n",
       "3 2019-09-24 23:19:43.684149      4.91638                 6.0   \n",
       "4 2019-09-24 23:24:43.684149      4.23752                 6.0   \n",
       "\n",
       "   ambiant_temperature  kilowatts  content_type  oxygen_level  nitrogen_level  \\\n",
       "0              18.0000        NaN           NaN           NaN             NaN   \n",
       "1              22.4282   2.927570           2.0       21.4124       -0.378142   \n",
       "2              18.5116   0.501211           2.0       19.6814        2.460760   \n",
       "3              20.8881   2.636550           2.0       20.7648        1.601000   \n",
       "4              20.1854   3.071450           2.0       21.1276        0.601678   \n",
       "\n",
       "   carbon_dioxide_level  humidity_level vent_1 vent_2 vent_3  time_door_open  \\\n",
       "0                   NaN             NaN   None   None   None             NaN   \n",
       "1               4.03737        0.577301   True   True   True        1.619410   \n",
       "2               4.24245        1.201170   True   True   True        0.170088   \n",
       "3               2.75441        2.501910   True   True   True        2.273720   \n",
       "4               2.54371       -0.589239   True   True   True        1.029000   \n",
       "\n",
       "   defrost_cycle  maintenance_required  \n",
       "0            NaN                   NaN  \n",
       "1            4.0                   0.0  \n",
       "2            6.0                   0.0  \n",
       "3            6.0                   0.0  \n",
       "4            3.0                   0.0  "
      ]
     },
     "execution_count": 4,
     "metadata": {},
     "output_type": "execute_result"
    }
   ],
   "source": [
    "# Importing dataset - the generated simulator data\n",
    "data = pd.read_sql_query('''SELECT measurement_time, temperature, target_temperature, ambiant_temperature, kilowatts, content_type, oxygen_level,nitrogen_level, carbon_dioxide_level, humidity_level, vent_1, vent_2, vent_3, time_door_open, defrost_cycle, maintenance_required  FROM reefer_telemetries;''',connection)\n",
    "data.head()"
   ]
  },
  {
   "cell_type": "code",
   "execution_count": 5,
   "metadata": {},
   "outputs": [
    {
     "data": {
      "text/html": [
       "<div>\n",
       "<style scoped>\n",
       "    .dataframe tbody tr th:only-of-type {\n",
       "        vertical-align: middle;\n",
       "    }\n",
       "\n",
       "    .dataframe tbody tr th {\n",
       "        vertical-align: top;\n",
       "    }\n",
       "\n",
       "    .dataframe thead th {\n",
       "        text-align: right;\n",
       "    }\n",
       "</style>\n",
       "<table border=\"1\" class=\"dataframe\">\n",
       "  <thead>\n",
       "    <tr style=\"text-align: right;\">\n",
       "      <th></th>\n",
       "      <th>measurement_time</th>\n",
       "      <th>temperature</th>\n",
       "      <th>target_temperature</th>\n",
       "      <th>ambiant_temperature</th>\n",
       "      <th>kilowatts</th>\n",
       "      <th>content_type</th>\n",
       "      <th>oxygen_level</th>\n",
       "      <th>nitrogen_level</th>\n",
       "      <th>carbon_dioxide_level</th>\n",
       "      <th>humidity_level</th>\n",
       "      <th>vent_1</th>\n",
       "      <th>vent_2</th>\n",
       "      <th>vent_3</th>\n",
       "      <th>time_door_open</th>\n",
       "      <th>defrost_cycle</th>\n",
       "      <th>maintenance_required</th>\n",
       "    </tr>\n",
       "  </thead>\n",
       "  <tbody>\n",
       "    <tr>\n",
       "      <th>1</th>\n",
       "      <td>2019-09-24 23:09:43.684149</td>\n",
       "      <td>6.68969</td>\n",
       "      <td>6.0</td>\n",
       "      <td>22.4282</td>\n",
       "      <td>2.927570</td>\n",
       "      <td>2.0</td>\n",
       "      <td>21.4124</td>\n",
       "      <td>-0.378142</td>\n",
       "      <td>4.03737</td>\n",
       "      <td>0.577301</td>\n",
       "      <td>True</td>\n",
       "      <td>True</td>\n",
       "      <td>True</td>\n",
       "      <td>1.619410</td>\n",
       "      <td>4.0</td>\n",
       "      <td>0.0</td>\n",
       "    </tr>\n",
       "    <tr>\n",
       "      <th>2</th>\n",
       "      <td>2019-09-24 23:14:43.684149</td>\n",
       "      <td>5.64922</td>\n",
       "      <td>6.0</td>\n",
       "      <td>18.5116</td>\n",
       "      <td>0.501211</td>\n",
       "      <td>2.0</td>\n",
       "      <td>19.6814</td>\n",
       "      <td>2.460760</td>\n",
       "      <td>4.24245</td>\n",
       "      <td>1.201170</td>\n",
       "      <td>True</td>\n",
       "      <td>True</td>\n",
       "      <td>True</td>\n",
       "      <td>0.170088</td>\n",
       "      <td>6.0</td>\n",
       "      <td>0.0</td>\n",
       "    </tr>\n",
       "    <tr>\n",
       "      <th>3</th>\n",
       "      <td>2019-09-24 23:19:43.684149</td>\n",
       "      <td>4.91638</td>\n",
       "      <td>6.0</td>\n",
       "      <td>20.8881</td>\n",
       "      <td>2.636550</td>\n",
       "      <td>2.0</td>\n",
       "      <td>20.7648</td>\n",
       "      <td>1.601000</td>\n",
       "      <td>2.75441</td>\n",
       "      <td>2.501910</td>\n",
       "      <td>True</td>\n",
       "      <td>True</td>\n",
       "      <td>True</td>\n",
       "      <td>2.273720</td>\n",
       "      <td>6.0</td>\n",
       "      <td>0.0</td>\n",
       "    </tr>\n",
       "    <tr>\n",
       "      <th>4</th>\n",
       "      <td>2019-09-24 23:24:43.684149</td>\n",
       "      <td>4.23752</td>\n",
       "      <td>6.0</td>\n",
       "      <td>20.1854</td>\n",
       "      <td>3.071450</td>\n",
       "      <td>2.0</td>\n",
       "      <td>21.1276</td>\n",
       "      <td>0.601678</td>\n",
       "      <td>2.54371</td>\n",
       "      <td>-0.589239</td>\n",
       "      <td>True</td>\n",
       "      <td>True</td>\n",
       "      <td>True</td>\n",
       "      <td>1.029000</td>\n",
       "      <td>3.0</td>\n",
       "      <td>0.0</td>\n",
       "    </tr>\n",
       "    <tr>\n",
       "      <th>5</th>\n",
       "      <td>2019-09-24 23:29:43.684149</td>\n",
       "      <td>6.47034</td>\n",
       "      <td>6.0</td>\n",
       "      <td>19.6761</td>\n",
       "      <td>0.878999</td>\n",
       "      <td>2.0</td>\n",
       "      <td>20.4821</td>\n",
       "      <td>0.052486</td>\n",
       "      <td>3.29618</td>\n",
       "      <td>1.073720</td>\n",
       "      <td>True</td>\n",
       "      <td>True</td>\n",
       "      <td>True</td>\n",
       "      <td>1.446830</td>\n",
       "      <td>5.0</td>\n",
       "      <td>0.0</td>\n",
       "    </tr>\n",
       "  </tbody>\n",
       "</table>\n",
       "</div>"
      ],
      "text/plain": [
       "            measurement_time  temperature  target_temperature  \\\n",
       "1 2019-09-24 23:09:43.684149      6.68969                 6.0   \n",
       "2 2019-09-24 23:14:43.684149      5.64922                 6.0   \n",
       "3 2019-09-24 23:19:43.684149      4.91638                 6.0   \n",
       "4 2019-09-24 23:24:43.684149      4.23752                 6.0   \n",
       "5 2019-09-24 23:29:43.684149      6.47034                 6.0   \n",
       "\n",
       "   ambiant_temperature  kilowatts  content_type  oxygen_level  nitrogen_level  \\\n",
       "1              22.4282   2.927570           2.0       21.4124       -0.378142   \n",
       "2              18.5116   0.501211           2.0       19.6814        2.460760   \n",
       "3              20.8881   2.636550           2.0       20.7648        1.601000   \n",
       "4              20.1854   3.071450           2.0       21.1276        0.601678   \n",
       "5              19.6761   0.878999           2.0       20.4821        0.052486   \n",
       "\n",
       "   carbon_dioxide_level  humidity_level vent_1 vent_2 vent_3  time_door_open  \\\n",
       "1               4.03737        0.577301   True   True   True        1.619410   \n",
       "2               4.24245        1.201170   True   True   True        0.170088   \n",
       "3               2.75441        2.501910   True   True   True        2.273720   \n",
       "4               2.54371       -0.589239   True   True   True        1.029000   \n",
       "5               3.29618        1.073720   True   True   True        1.446830   \n",
       "\n",
       "   defrost_cycle  maintenance_required  \n",
       "1            4.0                   0.0  \n",
       "2            6.0                   0.0  \n",
       "3            6.0                   0.0  \n",
       "4            3.0                   0.0  \n",
       "5            5.0                   0.0  "
      ]
     },
     "execution_count": 5,
     "metadata": {},
     "output_type": "execute_result"
    }
   ],
   "source": [
    "# Clean bad rows\n",
    "data=data.dropna()\n",
    "data.head()"
   ]
  },
  {
   "cell_type": "code",
   "execution_count": 6,
   "metadata": {},
   "outputs": [
    {
     "data": {
      "text/plain": [
       "array([[6.68969, 6.0, 22.4282, 21.4124, 4.03737, 0.577301, -0.378142,\n",
       "        True, True, True, 2.92757, 2.0, 1.61941, 4.0],\n",
       "       [5.64922, 6.0, 18.5116, 19.6814, 4.24245, 1.20117, 2.46076, True,\n",
       "        True, True, 0.501211, 2.0, 0.170088, 6.0],\n",
       "       [4.91638, 6.0, 20.8881, 20.7648, 2.75441, 2.50191, 1.601, True,\n",
       "        True, True, 2.63655, 2.0, 2.27372, 6.0],\n",
       "       [4.23752, 6.0, 20.1854, 21.1276, 2.54371, -0.589239, 0.601678,\n",
       "        True, True, True, 3.07145, 2.0, 1.029, 3.0],\n",
       "       [6.47034, 6.0, 19.6761, 20.4821, 3.29618, 1.07372, 0.0524862,\n",
       "        True, True, True, 0.878999, 2.0, 1.44683, 5.0]], dtype=object)"
      ]
     },
     "execution_count": 6,
     "metadata": {},
     "output_type": "execute_result"
    }
   ],
   "source": [
    "# Convert dataset into array for the independent variables (features)\n",
    "X = np.asarray(data[['temperature','target_temperature','ambiant_temperature','oxygen_level','carbon_dioxide_level','humidity_level','nitrogen_level','vent_1','vent_2','vent_3','kilowatts','content_type','time_door_open','defrost_cycle']])\n",
    "X[0:5]"
   ]
  },
  {
   "cell_type": "code",
   "execution_count": 12,
   "metadata": {},
   "outputs": [
    {
     "data": {
      "image/png": "[encoded data removed]",
      "text/plain": [
       "<Figure size 648x432 with 1 Axes>"
      ]
     },
     "metadata": {
      "needs_background": "light"
     },
     "output_type": "display_data"
    }
   ],
   "source": [
    "# Visualize the time series for co2 censor\n",
    "fig,ax = plt.subplots(figsize=(9,6))\n",
    "time_axe = np.arange(0,data['carbon_dioxide_level'].size,1)\n",
    "ax.plot(time_axe,np.asarray(data[['carbon_dioxide_level']]))\n",
    "plt.show()"
   ]
  },
  {
   "cell_type": "code",
   "execution_count": 13,
   "metadata": {},
   "outputs": [
    {
     "data": {
      "text/plain": [
       "array([0., 0., 0., 0., 0.])"
      ]
     },
     "execution_count": 13,
     "metadata": {},
     "output_type": "execute_result"
    }
   ],
   "source": [
    "# Convert dataset into array for the dependent (objective) variables\n",
    "y = np.asarray(data['maintenance_required'])\n",
    "y [0:5]"
   ]
  },
  {
   "cell_type": "code",
   "execution_count": 14,
   "metadata": {},
   "outputs": [
    {
     "data": {
      "text/plain": [
       "array([[ 0.70199118,  0.        ,  2.40217591,  0.34389415, -0.13698826,\n",
       "        -0.80811182, -0.83483554,  0.        ,  0.        ,  0.        ,\n",
       "         0.21582432,  0.        ,  0.60552678, -0.45881218],\n",
       "       [-0.31623475,  0.        , -1.48431342, -0.68829309, -0.02111067,\n",
       "        -0.79156555, -0.75949069,  0.        ,  0.        ,  0.        ,\n",
       "        -2.21653967,  0.        , -0.84777491,  1.32876775],\n",
       "       [-1.03340746,  0.        ,  0.87391614, -0.04226671, -0.86190688,\n",
       "        -0.75706729, -0.78230884,  0.        ,  0.        ,  0.        ,\n",
       "        -0.07591592,  0.        ,  1.26163344,  1.32876775],\n",
       "       [-1.69775421,  0.        ,  0.17661847,  0.17406924, -0.98095997,\n",
       "        -0.83905082, -0.80883098,  0.        ,  0.        ,  0.        ,\n",
       "         0.36006041,  0.        ,  0.01349557, -1.35260215],\n",
       "       [ 0.48733063,  0.        , -0.32876605, -0.21083941, -0.55578731,\n",
       "        -0.79494578, -0.82340661,  0.        ,  0.        ,  0.        ,\n",
       "        -1.83781668,  0.        ,  0.43247289,  0.43497778]])"
      ]
     },
     "execution_count": 14,
     "metadata": {},
     "output_type": "execute_result"
    }
   ],
   "source": [
    "# Normalize/standardize (mean = 0 and standard deviation = 1) \n",
    "# your features before applying machine learning techniques.\n",
    "from sklearn import preprocessing\n",
    "X = preprocessing.StandardScaler().fit(X).transform(X)\n",
    "X[0:5]"
   ]
  },
  {
   "cell_type": "code",
   "execution_count": 26,
   "metadata": {},
   "outputs": [
    {
     "name": "stdout",
     "output_type": "stream",
     "text": [
      "Train set: (4080, 14) (4080,)\n",
      "Test set: (1020, 14) (1020,)\n"
     ]
    }
   ],
   "source": [
    "## randomly split the dataset into train and test to estimate model accuracy \n",
    "from sklearn.model_selection import train_test_split\n",
    "X_train, X_test, y_train, y_test = train_test_split( X, y, test_size=0.20, random_state=4)\n",
    "print ('Train set:', X_train.shape,  y_train.shape)\n",
    "print ('Test set:', X_test.shape,  y_test.shape)"
   ]
  },
  {
   "cell_type": "code",
   "execution_count": 27,
   "metadata": {},
   "outputs": [
    {
     "data": {
      "text/plain": [
       "LogisticRegression(C=0.01, class_weight=None, dual=False, fit_intercept=True,\n",
       "                   intercept_scaling=1, l1_ratio=None, max_iter=100,\n",
       "                   multi_class='warn', n_jobs=None, penalty='l2',\n",
       "                   random_state=None, solver='liblinear', tol=0.0001, verbose=0,\n",
       "                   warm_start=False)"
      ]
     },
     "execution_count": 27,
     "metadata": {},
     "output_type": "execute_result"
    }
   ],
   "source": [
    "## As we are trying to acheive a binary classification, we use Logistic Regression model\n",
    "from sklearn.linear_model import LogisticRegression\n",
    "from sklearn.metrics import confusion_matrix\n",
    "LR = LogisticRegression(C=0.01, solver='liblinear').fit(X_train,y_train)\n",
    "LR"
   ]
  },
  {
   "cell_type": "code",
   "execution_count": 31,
   "metadata": {},
   "outputs": [
    {
     "data": {
      "text/plain": [
       "array([0., 0., 0., ..., 0., 0., 1.])"
      ]
     },
     "execution_count": 31,
     "metadata": {},
     "output_type": "execute_result"
    }
   ],
   "source": [
    "## Predict using the trained LR model\n",
    "predictions = LR.predict(X_test)\n",
    "predictions\n"
   ]
  },
  {
   "cell_type": "code",
   "execution_count": 32,
   "metadata": {},
   "outputs": [
    {
     "data": {
      "text/plain": [
       "0.9950980392156863"
      ]
     },
     "execution_count": 32,
     "metadata": {},
     "output_type": "execute_result"
    }
   ],
   "source": [
    "## the accuracy metric: correct predictions / total number of records\n",
    "score = LR.score(X_test,y_test)\n",
    "score"
   ]
  },
  {
   "cell_type": "code",
   "execution_count": 18,
   "metadata": {},
   "outputs": [
    {
     "data": {
      "text/plain": [
       "array([[0.94490366, 0.05509634],\n",
       "       [0.94217848, 0.05782152],\n",
       "       [0.9651041 , 0.0348959 ],\n",
       "       ...,\n",
       "       [0.92336219, 0.07663781],\n",
       "       [0.93825718, 0.06174282],\n",
       "       [0.44057621, 0.55942379]])"
      ]
     },
     "execution_count": 18,
     "metadata": {},
     "output_type": "execute_result"
    }
   ],
   "source": [
    "yhat_prob = LR.predict_proba(X_test)\n",
    "yhat_prob"
   ]
  },
  {
   "cell_type": "code",
   "execution_count": 19,
   "metadata": {},
   "outputs": [
    {
     "data": {
      "text/plain": [
       "0.8275862068965517"
      ]
     },
     "execution_count": 19,
     "metadata": {},
     "output_type": "execute_result"
    }
   ],
   "source": [
    "from sklearn.metrics import jaccard_score\n",
    "jaccard_score(y_test, predictions)"
   ]
  },
  {
   "cell_type": "code",
   "execution_count": 20,
   "metadata": {},
   "outputs": [],
   "source": [
    "# Plot the confusion matrix to present the true value versus the predicted one per class\n",
    "# \n",
    "from sklearn.metrics import classification_report, confusion_matrix\n",
    "import itertools\n",
    "def plot_confusion_matrix(cm, classes,\n",
    "                          normalize=False,\n",
    "                          title='Confusion matrix',\n",
    "                          cmap=plt.cm.Blues):\n",
    "    \"\"\"\n",
    "    This function prints and plots the confusion matrix.\n",
    "    Normalization can be applied by setting `normalize=True`.\n",
    "    \"\"\"\n",
    "    if normalize:\n",
    "        cm = cm.astype('float') / cm.sum(axis=1)[:, np.newaxis]\n",
    "        print(\"Normalized confusion matrix\")\n",
    "    else:\n",
    "        print('Confusion matrix, without normalization')\n",
    "\n",
    "    print(cm)\n",
    "\n",
    "    plt.imshow(cm, interpolation='nearest', cmap=cmap)\n",
    "    plt.title(title)\n",
    "    plt.colorbar()\n",
    "    tick_marks = np.arange(len(classes))\n",
    "    plt.xticks(tick_marks, classes, rotation=45)\n",
    "    plt.yticks(tick_marks, classes)\n",
    "\n",
    "    fmt = '.2f' if normalize else 'd'\n",
    "    thresh = cm.max() / 2.\n",
    "    for i, j in itertools.product(range(cm.shape[0]), range(cm.shape[1])):\n",
    "        plt.text(j, i, format(cm[i, j], fmt),\n",
    "                 horizontalalignment=\"center\",\n",
    "                 color=\"white\" if cm[i, j] > thresh else \"black\")\n",
    "\n",
    "    plt.tight_layout()\n",
    "    plt.ylabel('Actual label')\n",
    "    plt.xlabel('Predicted label')\n",
    "    print(confusion_matrix(y_test, predictions, labels=[1,0]))"
   ]
  },
  {
   "cell_type": "code",
   "execution_count": 21,
   "metadata": {},
   "outputs": [
    {
     "name": "stdout",
     "output_type": "stream",
     "text": [
      "Confusion matrix, without normalization\n",
      "[[ 24   4]\n",
      " [  1 991]]\n",
      "[[ 24   4]\n",
      " [  1 991]]\n"
     ]
    },
    {
     "data": {
      "image/png": "[encoded data removed]",
      "text/plain": [
       "<Figure size 432x288 with 2 Axes>"
      ]
     },
     "metadata": {
      "needs_background": "light"
     },
     "output_type": "display_data"
    }
   ],
   "source": [
    "# Compute confusion matrix\n",
    "cnf_matrix = confusion_matrix(y_test, predictions, labels=[1,0])\n",
    "np.set_printoptions(precision=2)\n",
    "\n",
    "\n",
    "# Plot non-normalized confusion matrix\n",
    "plt.figure()\n",
    "plot_confusion_matrix(cnf_matrix, classes=['MaintFlag=1','MaintFlag=0'],normalize= False,  title='Confusion matrix')"
   ]
  },
  {
   "cell_type": "code",
   "execution_count": 22,
   "metadata": {},
   "outputs": [
    {
     "name": "stdout",
     "output_type": "stream",
     "text": [
      "              precision    recall  f1-score   support\n",
      "\n",
      "         0.0       1.00      1.00      1.00       992\n",
      "         1.0       0.96      0.86      0.91        28\n",
      "\n",
      "    accuracy                           1.00      1020\n",
      "   macro avg       0.98      0.93      0.95      1020\n",
      "weighted avg       0.99      1.00      0.99      1020\n",
      "\n"
     ]
    }
   ],
   "source": [
    "print (classification_report(y_test, predictions))\n"
   ]
  },
  {
   "cell_type": "code",
   "execution_count": 23,
   "metadata": {},
   "outputs": [
    {
     "data": {
      "text/plain": [
       "0.09043759724939252"
      ]
     },
     "execution_count": 23,
     "metadata": {},
     "output_type": "execute_result"
    }
   ],
   "source": [
    "# Compute cross entropy loss for the ground truth and the predicted probability \n",
    "from sklearn.metrics import log_loss\n",
    "log_loss(y_test, yhat_prob)\n"
   ]
  },
  {
   "cell_type": "code",
   "execution_count": 24,
   "metadata": {},
   "outputs": [],
   "source": [
    "import pickle\n",
    "\n",
    "#serializing our model to a file called model_logistic_regression.pkl\n",
    "pickle.dump(LR, open(\"model_logistic_regression.pkl\",\"wb\"))"
   ]
  },
  {
   "cell_type": "code",
   "execution_count": null,
   "metadata": {},
   "outputs": [],
   "source": []
  }
 ],
 "metadata": {
  "kernelspec": {
   "display_name": "Python 3",
   "language": "python",
   "name": "python3"
  },
  "language_info": {
   "codemirror_mode": {
    "name": "ipython",
    "version": 3
   },
   "file_extension": ".py",
   "mimetype": "text/x-python",
   "name": "python",
   "nbconvert_exporter": "python",
   "pygments_lexer": "ipython3",
   "version": "3.7.3"
  }
 },
 "nbformat": 4,
 "nbformat_minor": 2
}
