{
 "cells": [
  {
   "cell_type": "code",
   "execution_count": 1,
   "metadata": {},
   "outputs": [],
   "source": [
    "import pandas as pd\n",
    "import pylab as pl\n",
    "import numpy as np\n",
    "import scipy.optimize as opt\n",
    "from sklearn import preprocessing\n",
    "%matplotlib inline \n",
    "import matplotlib.pyplot as plt"
   ]
  },
  {
   "cell_type": "code",
   "execution_count": 2,
   "metadata": {
    "scrolled": true
   },
   "outputs": [
    {
     "data": {
      "text/html": [
       "<div>\n",
       "<style scoped>\n",
       "    .dataframe tbody tr th:only-of-type {\n",
       "        vertical-align: middle;\n",
       "    }\n",
       "\n",
       "    .dataframe tbody tr th {\n",
       "        vertical-align: top;\n",
       "    }\n",
       "\n",
       "    .dataframe thead th {\n",
       "        text-align: right;\n",
       "    }\n",
       "</style>\n",
       "<table border=\"1\" class=\"dataframe\">\n",
       "  <thead>\n",
       "    <tr style=\"text-align: right;\">\n",
       "      <th></th>\n",
       "      <th>container_id</th>\n",
       "      <th>measurement_time</th>\n",
       "      <th>product_id</th>\n",
       "      <th>temperature</th>\n",
       "      <th>target_temperature</th>\n",
       "      <th>ambiant_temperature</th>\n",
       "      <th>kilowatts</th>\n",
       "      <th>time_door_open</th>\n",
       "      <th>content_type</th>\n",
       "      <th>defrost_cycle</th>\n",
       "      <th>oxygen_level</th>\n",
       "      <th>nitrogen_level</th>\n",
       "      <th>humidity_level</th>\n",
       "      <th>carbon_dioxide_level</th>\n",
       "      <th>vent_1</th>\n",
       "      <th>vent_2</th>\n",
       "      <th>vent_3</th>\n",
       "      <th>maintenance_required</th>\n",
       "    </tr>\n",
       "  </thead>\n",
       "  <tbody>\n",
       "    <tr>\n",
       "      <th>0</th>\n",
       "      <td>C01</td>\n",
       "      <td>2019-10-21 21:58:47.778469</td>\n",
       "      <td>P02</td>\n",
       "      <td>6.421550</td>\n",
       "      <td>6</td>\n",
       "      <td>20.875069</td>\n",
       "      <td>5.104784</td>\n",
       "      <td>-0.849733</td>\n",
       "      <td>2</td>\n",
       "      <td>6</td>\n",
       "      <td>22.582955</td>\n",
       "      <td>78.414413</td>\n",
       "      <td>59.751720</td>\n",
       "      <td>2.297364</td>\n",
       "      <td>True</td>\n",
       "      <td>True</td>\n",
       "      <td>True</td>\n",
       "      <td>0</td>\n",
       "    </tr>\n",
       "    <tr>\n",
       "      <th>1</th>\n",
       "      <td>C01</td>\n",
       "      <td>2019-10-21 22:03:47.778469</td>\n",
       "      <td>P02</td>\n",
       "      <td>5.856868</td>\n",
       "      <td>6</td>\n",
       "      <td>21.128387</td>\n",
       "      <td>5.122725</td>\n",
       "      <td>0.617787</td>\n",
       "      <td>2</td>\n",
       "      <td>5</td>\n",
       "      <td>21.501824</td>\n",
       "      <td>78.449830</td>\n",
       "      <td>61.570283</td>\n",
       "      <td>3.782031</td>\n",
       "      <td>True</td>\n",
       "      <td>True</td>\n",
       "      <td>True</td>\n",
       "      <td>0</td>\n",
       "    </tr>\n",
       "    <tr>\n",
       "      <th>2</th>\n",
       "      <td>C01</td>\n",
       "      <td>2019-10-21 22:08:47.778469</td>\n",
       "      <td>P02</td>\n",
       "      <td>5.656720</td>\n",
       "      <td>6</td>\n",
       "      <td>21.171572</td>\n",
       "      <td>2.829637</td>\n",
       "      <td>2.119314</td>\n",
       "      <td>2</td>\n",
       "      <td>6</td>\n",
       "      <td>20.104576</td>\n",
       "      <td>77.771802</td>\n",
       "      <td>61.443443</td>\n",
       "      <td>5.868899</td>\n",
       "      <td>True</td>\n",
       "      <td>True</td>\n",
       "      <td>True</td>\n",
       "      <td>0</td>\n",
       "    </tr>\n",
       "    <tr>\n",
       "      <th>3</th>\n",
       "      <td>C01</td>\n",
       "      <td>2019-10-21 22:13:47.778469</td>\n",
       "      <td>P02</td>\n",
       "      <td>6.053072</td>\n",
       "      <td>6</td>\n",
       "      <td>20.665113</td>\n",
       "      <td>1.987387</td>\n",
       "      <td>1.103350</td>\n",
       "      <td>2</td>\n",
       "      <td>4</td>\n",
       "      <td>19.039297</td>\n",
       "      <td>75.704534</td>\n",
       "      <td>60.300971</td>\n",
       "      <td>4.518827</td>\n",
       "      <td>True</td>\n",
       "      <td>True</td>\n",
       "      <td>True</td>\n",
       "      <td>0</td>\n",
       "    </tr>\n",
       "    <tr>\n",
       "      <th>4</th>\n",
       "      <td>C01</td>\n",
       "      <td>2019-10-21 22:18:47.778469</td>\n",
       "      <td>P02</td>\n",
       "      <td>6.409696</td>\n",
       "      <td>6</td>\n",
       "      <td>21.025121</td>\n",
       "      <td>2.898705</td>\n",
       "      <td>0.861419</td>\n",
       "      <td>2</td>\n",
       "      <td>5</td>\n",
       "      <td>21.075411</td>\n",
       "      <td>78.685539</td>\n",
       "      <td>59.725525</td>\n",
       "      <td>4.676924</td>\n",
       "      <td>True</td>\n",
       "      <td>True</td>\n",
       "      <td>True</td>\n",
       "      <td>0</td>\n",
       "    </tr>\n",
       "  </tbody>\n",
       "</table>\n",
       "</div>"
      ],
      "text/plain": [
       "  container_id            measurement_time product_id  temperature  \\\n",
       "0          C01  2019-10-21 21:58:47.778469        P02     6.421550   \n",
       "1          C01  2019-10-21 22:03:47.778469        P02     5.856868   \n",
       "2          C01  2019-10-21 22:08:47.778469        P02     5.656720   \n",
       "3          C01  2019-10-21 22:13:47.778469        P02     6.053072   \n",
       "4          C01  2019-10-21 22:18:47.778469        P02     6.409696   \n",
       "\n",
       "   target_temperature  ambiant_temperature  kilowatts  time_door_open  \\\n",
       "0                   6            20.875069   5.104784       -0.849733   \n",
       "1                   6            21.128387   5.122725        0.617787   \n",
       "2                   6            21.171572   2.829637        2.119314   \n",
       "3                   6            20.665113   1.987387        1.103350   \n",
       "4                   6            21.025121   2.898705        0.861419   \n",
       "\n",
       "   content_type  defrost_cycle  oxygen_level  nitrogen_level  humidity_level  \\\n",
       "0             2              6     22.582955       78.414413       59.751720   \n",
       "1             2              5     21.501824       78.449830       61.570283   \n",
       "2             2              6     20.104576       77.771802       61.443443   \n",
       "3             2              4     19.039297       75.704534       60.300971   \n",
       "4             2              5     21.075411       78.685539       59.725525   \n",
       "\n",
       "   carbon_dioxide_level  vent_1  vent_2  vent_3  maintenance_required  \n",
       "0              2.297364    True    True    True                     0  \n",
       "1              3.782031    True    True    True                     0  \n",
       "2              5.868899    True    True    True                     0  \n",
       "3              4.518827    True    True    True                     0  \n",
       "4              4.676924    True    True    True                     0  "
      ]
     },
     "execution_count": 2,
     "metadata": {},
     "output_type": "execute_result"
    }
   ],
   "source": [
    "# Importing dataset - the generated simulator data\n",
    "data = pd.read_csv('./data/telemetries.csv', delimiter=\",\")\n",
    "data.head()"
   ]
  },
  {
   "cell_type": "code",
   "execution_count": 3,
   "metadata": {},
   "outputs": [
    {
     "data": {
      "text/plain": [
       "array([[6.421549890228215, 6, 20.875069365764087, 22.58295531772213,\n",
       "        2.2973638095227984, 59.751719952413076, 78.41441344522265, True,\n",
       "        True, True, 5.104784197507562, 2, -0.8497332867479737, 6],\n",
       "       [5.856867982999519, 6, 21.128386514434453, 21.50182356620862,\n",
       "        3.7820314725518687, 61.570283077498324, 78.44983017162953, True,\n",
       "        True, True, 5.122725186553819, 2, 0.6177872500681656, 5],\n",
       "       [5.6567203017250645, 6, 21.17157194147064, 20.104576413467306,\n",
       "        5.868899231921329, 61.443442975167926, 77.77180209085563, True,\n",
       "        True, True, 2.8296373416999665, 2, 2.1193136207321763, 6],\n",
       "       [6.053072053811502, 6, 20.66511333708939, 19.03929674511865,\n",
       "        4.518827086315096, 60.30097139281394, 75.70453406968731, True,\n",
       "        True, True, 1.9873873990101083, 2, 1.1033503981140276, 4],\n",
       "       [6.409695831798644, 6, 21.025120550360636, 21.07541132606288,\n",
       "        4.676923640456226, 59.725525490850856, 78.6855392897819, True,\n",
       "        True, True, 2.8987050654962543, 2, 0.8614187105485169, 5]],\n",
       "      dtype=object)"
      ]
     },
     "execution_count": 3,
     "metadata": {},
     "output_type": "execute_result"
    }
   ],
   "source": [
    "# Convert dataset into array for the independent variables (features)\n",
    "X = np.asarray(data[['temperature','target_temperature','ambiant_temperature','oxygen_level','carbon_dioxide_level','humidity_level','nitrogen_level','vent_1','vent_2','vent_3','kilowatts','content_type','time_door_open','defrost_cycle']])\n",
    "X[0:5]"
   ]
  },
  {
   "cell_type": "code",
   "execution_count": 4,
   "metadata": {},
   "outputs": [
    {
     "data": {
      "image/png": "[encoded data removed]",
      "text/plain": [
       "<Figure size 648x432 with 1 Axes>"
      ]
     },
     "metadata": {
      "needs_background": "light"
     },
     "output_type": "display_data"
    }
   ],
   "source": [
    "# Visualize the time series for co2 censor\n",
    "fig,ax = plt.subplots(figsize=(9,6))\n",
    "time_axe = np.arange(0,data['carbon_dioxide_level'].size,1)\n",
    "ax.plot(time_axe,np.asarray(data[['carbon_dioxide_level']]))\n",
    "plt.show()"
   ]
  },
  {
   "cell_type": "code",
   "execution_count": 5,
   "metadata": {},
   "outputs": [
    {
     "data": {
      "text/plain": [
       "array([0, 0, 0, 0, 0])"
      ]
     },
     "execution_count": 5,
     "metadata": {},
     "output_type": "execute_result"
    }
   ],
   "source": [
    "# Convert dataset into array for the dependent (objective) variables\n",
    "y = np.asarray(data['maintenance_required'])\n",
    "y [0:5]"
   ]
  },
  {
   "cell_type": "code",
   "execution_count": 6,
   "metadata": {},
   "outputs": [
    {
     "data": {
      "text/plain": [
       "array([[ 0.42846617,  0.        ,  0.86228574,  1.16463912, -1.37615722,\n",
       "        -0.23170658,  0.42300313,  0.09879789,  0.09879789,  0.09879789,\n",
       "         2.3531473 ,  0.        , -1.84256777,  1.36547519],\n",
       "       [-0.13644282,  0.        ,  1.1139979 ,  0.41603848, -0.23052444,\n",
       "         1.570928  ,  0.4587289 ,  0.09879789,  0.09879789,  0.09879789,\n",
       "         2.37044643,  0.        , -0.37366259,  0.47378482],\n",
       "       [-0.33667099,  0.        ,  1.15690971, -0.55144779,  1.37979157,\n",
       "         1.44519888, -0.22521571,  0.09879789,  0.09879789,  0.09879789,\n",
       "         0.15939682,  0.        ,  1.12928051,  1.36547519],\n",
       "       [ 0.05984015,  0.        ,  0.65365997, -1.28907208,  0.33801842,\n",
       "         0.31273404, -2.31052291,  0.09879789,  0.09879789,  0.09879789,\n",
       "        -0.65272052,  0.        ,  0.1123587 , -0.41790556],\n",
       "       [ 0.41660734,  0.        ,  1.01138622,  0.12078078,  0.46001245,\n",
       "        -0.25767161,  0.69649484,  0.09879789,  0.09879789,  0.09879789,\n",
       "         0.22599355,  0.        , -0.12980126,  0.47378482]])"
      ]
     },
     "execution_count": 6,
     "metadata": {},
     "output_type": "execute_result"
    }
   ],
   "source": [
    "# Normalize/standardize (mean = 0 and standard deviation = 1) \n",
    "# your features before applying machine learning techniques.\n",
    "from sklearn import preprocessing\n",
    "X = preprocessing.StandardScaler().fit(X).transform(X)\n",
    "X[0:5]"
   ]
  },
  {
   "cell_type": "code",
   "execution_count": 7,
   "metadata": {},
   "outputs": [
    {
     "name": "stdout",
     "output_type": "stream",
     "text": [
      "Train set: (7200, 14) (7200,)\n",
      "Test set: (1800, 14) (1800,)\n"
     ]
    }
   ],
   "source": [
    "## split the dataset into train and test to estiamte model accuracy \n",
    "from sklearn.model_selection import train_test_split\n",
    "X_train, X_test, y_train, y_test = train_test_split( X, y, test_size=0.2, random_state=4)\n",
    "print ('Train set:', X_train.shape,  y_train.shape)\n",
    "print ('Test set:', X_test.shape,  y_test.shape)"
   ]
  },
  {
   "cell_type": "code",
   "execution_count": 8,
   "metadata": {},
   "outputs": [
    {
     "data": {
      "text/plain": [
       "LogisticRegression(C=0.01, class_weight=None, dual=False, fit_intercept=True,\n",
       "                   intercept_scaling=1, l1_ratio=None, max_iter=100,\n",
       "                   multi_class='warn', n_jobs=None, penalty='l2',\n",
       "                   random_state=None, solver='liblinear', tol=0.0001, verbose=0,\n",
       "                   warm_start=False)"
      ]
     },
     "execution_count": 8,
     "metadata": {},
     "output_type": "execute_result"
    }
   ],
   "source": [
    "## As we are trying to acheive a binary classification, we use Logistic Regression model\n",
    "from sklearn.linear_model import LogisticRegression\n",
    "from sklearn.metrics import confusion_matrix\n",
    "LR = LogisticRegression(C=0.01, solver='liblinear').fit(X_train,y_train)\n",
    "LR"
   ]
  },
  {
   "cell_type": "code",
   "execution_count": 9,
   "metadata": {},
   "outputs": [
    {
     "data": {
      "text/plain": [
       "array([0, 0, 0, ..., 0, 0, 0])"
      ]
     },
     "execution_count": 9,
     "metadata": {},
     "output_type": "execute_result"
    }
   ],
   "source": [
    "## Predict using the trained LR model\n",
    "predictions = LR.predict(X_test)\n",
    "predictions"
   ]
  },
  {
   "cell_type": "code",
   "execution_count": 10,
   "metadata": {},
   "outputs": [
    {
     "data": {
      "text/plain": [
       "array([[0.94464566, 0.05535434],\n",
       "       [0.96783915, 0.03216085],\n",
       "       [0.97785729, 0.02214271],\n",
       "       ...,\n",
       "       [0.95307074, 0.04692926],\n",
       "       [0.94147223, 0.05852777],\n",
       "       [0.96540094, 0.03459906]])"
      ]
     },
     "execution_count": 10,
     "metadata": {},
     "output_type": "execute_result"
    }
   ],
   "source": [
    "predictions_prob = LR.predict_proba(X_test)\n",
    "predictions_prob"
   ]
  },
  {
   "cell_type": "code",
   "execution_count": 11,
   "metadata": {},
   "outputs": [
    {
     "data": {
      "text/plain": [
       "0.9966666666666667"
      ]
     },
     "execution_count": 11,
     "metadata": {},
     "output_type": "execute_result"
    }
   ],
   "source": [
    "## the accuracy metric: correct predictions / total number of records\n",
    "score = LR.score(X_test,y_test)\n",
    "score"
   ]
  },
  {
   "cell_type": "code",
   "execution_count": 12,
   "metadata": {},
   "outputs": [
    {
     "data": {
      "text/plain": [
       "0.8378378378378378"
      ]
     },
     "execution_count": 12,
     "metadata": {},
     "output_type": "execute_result"
    }
   ],
   "source": [
    "from sklearn.metrics import jaccard_score\n",
    "jaccard_score(y_test, predictions)"
   ]
  },
  {
   "cell_type": "code",
   "execution_count": 13,
   "metadata": {},
   "outputs": [],
   "source": [
    "from sklearn.metrics import classification_report, confusion_matrix\n",
    "import itertools\n",
    "def plot_confusion_matrix(cm, classes,\n",
    "                          normalize=False,\n",
    "                          title='Confusion matrix',\n",
    "                          cmap=plt.cm.Blues):\n",
    "    \"\"\"\n",
    "    This function prints and plots the confusion matrix.\n",
    "    Normalization can be applied by setting `normalize=True`.\n",
    "    \"\"\"\n",
    "    if normalize:\n",
    "        cm = cm.astype('float') / cm.sum(axis=1)[:, np.newaxis]\n",
    "        print(\"Normalized confusion matrix\")\n",
    "    else:\n",
    "        print('Confusion matrix, without normalization')\n",
    "\n",
    "    print(cm)\n",
    "\n",
    "    plt.imshow(cm, interpolation='nearest', cmap=cmap)\n",
    "    plt.title(title)\n",
    "    plt.colorbar()\n",
    "    tick_marks = np.arange(len(classes))\n",
    "    plt.xticks(tick_marks, classes, rotation=45)\n",
    "    plt.yticks(tick_marks, classes)\n",
    "\n",
    "    fmt = '.2f' if normalize else 'd'\n",
    "    thresh = cm.max() / 2.\n",
    "    for i, j in itertools.product(range(cm.shape[0]), range(cm.shape[1])):\n",
    "        plt.text(j, i, format(cm[i, j], fmt),\n",
    "                 horizontalalignment=\"center\",\n",
    "                 color=\"white\" if cm[i, j] > thresh else \"black\")\n",
    "\n",
    "    plt.tight_layout()\n",
    "    plt.ylabel('True label')\n",
    "    plt.xlabel('Predicted label')\n",
    "    print(confusion_matrix(y_test, predictions, labels=[1,0]))"
   ]
  },
  {
   "cell_type": "code",
   "execution_count": 14,
   "metadata": {},
   "outputs": [
    {
     "name": "stdout",
     "output_type": "stream",
     "text": [
      "Confusion matrix, without normalization\n",
      "[[  31    5]\n",
      " [   1 1763]]\n",
      "[[  31    5]\n",
      " [   1 1763]]\n"
     ]
    },
    {
     "data": {
      "image/png": "[encoded data removed]",
      "text/plain": [
       "<Figure size 432x288 with 2 Axes>"
      ]
     },
     "metadata": {
      "needs_background": "light"
     },
     "output_type": "display_data"
    }
   ],
   "source": [
    "# Compute confusion matrix\n",
    "cnf_matrix = confusion_matrix(y_test, predictions, labels=[1,0])\n",
    "np.set_printoptions(precision=2)\n",
    "\n",
    "\n",
    "# Plot non-normalized confusion matrix\n",
    "plt.figure()\n",
    "plot_confusion_matrix(cnf_matrix, classes=['MaintFlag=1','MaintFlag=0'],normalize= False,  title='Confusion matrix')"
   ]
  },
  {
   "cell_type": "code",
   "execution_count": 17,
   "metadata": {},
   "outputs": [
    {
     "name": "stdout",
     "output_type": "stream",
     "text": [
      "              precision    recall  f1-score   support\n",
      "\n",
      "           0       1.00      1.00      1.00      1764\n",
      "           1       0.97      0.86      0.91        36\n",
      "\n",
      "    accuracy                           1.00      1800\n",
      "   macro avg       0.98      0.93      0.96      1800\n",
      "weighted avg       1.00      1.00      1.00      1800\n",
      "\n"
     ]
    }
   ],
   "source": [
    "print (classification_report(y_test, predictions))\n"
   ]
  },
  {
   "cell_type": "code",
   "execution_count": 18,
   "metadata": {},
   "outputs": [
    {
     "data": {
      "text/plain": [
       "0.055594852590724095"
      ]
     },
     "execution_count": 18,
     "metadata": {},
     "output_type": "execute_result"
    }
   ],
   "source": [
    "\n",
    "from sklearn.metrics import log_loss\n",
    "log_loss(y_test, predictions_prob)\n"
   ]
  },
  {
   "cell_type": "code",
   "execution_count": 19,
   "metadata": {},
   "outputs": [],
   "source": [
    "import pickle\n",
    "\n",
    "#serializing our model to a file called model_logistic_regression.pkl\n",
    "pickle.dump(LR, open(\"model_logistic_regression.pkl\",\"wb\"))"
   ]
  },
  {
   "cell_type": "code",
   "execution_count": null,
   "metadata": {},
   "outputs": [],
   "source": []
  }
 ],
 "metadata": {
  "kernelspec": {
   "display_name": "Python 3",
   "language": "python",
   "name": "python3"
  },
  "language_info": {
   "codemirror_mode": {
    "name": "ipython",
    "version": 3
   },
   "file_extension": ".py",
   "mimetype": "text/x-python",
   "name": "python",
   "nbconvert_exporter": "python",
   "pygments_lexer": "ipython3",
   "version": "3.7.3"
  }
 },
 "nbformat": 4,
 "nbformat_minor": 2
}
