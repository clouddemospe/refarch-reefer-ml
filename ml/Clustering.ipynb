{
 "cells": [
  {
   "cell_type": "code",
   "execution_count": 12,
   "metadata": {},
   "outputs": [],
   "source": [
    "import pandas as pd\n",
    "import numpy as np\n",
    "import matplotlib.pyplot as plt\n",
    "from sklearn.neighbors import LocalOutlierFactor"
   ]
  },
  {
   "cell_type": "markdown",
   "metadata": {},
   "source": [
    "# Anomaly detection with Local Outlier Factor (LOF) \n",
    "\n",
    "As we have very few anomaly telemetries in the dataset, it may make sense to evaluate outlier in the gven population. \n",
    "\n",
    "The LOF algorithm is an unsupervised outlier detection method which computes the local density deviation of a given data point with respect to its neighbors. See https://scikit-learn.org/0.19/auto_examples/neighbors/plot_lof.html"
   ]
  },
  {
   "cell_type": "markdown",
   "metadata": {},
   "source": [
    "## Importing dataset - the generated simulator data"
   ]
  },
  {
   "cell_type": "code",
   "execution_count": 13,
   "metadata": {},
   "outputs": [
    {
     "data": {
      "text/html": [
       "<div>\n",
       "<style scoped>\n",
       "    .dataframe tbody tr th:only-of-type {\n",
       "        vertical-align: middle;\n",
       "    }\n",
       "\n",
       "    .dataframe tbody tr th {\n",
       "        vertical-align: top;\n",
       "    }\n",
       "\n",
       "    .dataframe thead th {\n",
       "        text-align: right;\n",
       "    }\n",
       "</style>\n",
       "<table border=\"1\" class=\"dataframe\">\n",
       "  <thead>\n",
       "    <tr style=\"text-align: right;\">\n",
       "      <th></th>\n",
       "      <th>container_id</th>\n",
       "      <th>measurement_time</th>\n",
       "      <th>product_id</th>\n",
       "      <th>temperature</th>\n",
       "      <th>target_temperature</th>\n",
       "      <th>ambiant_temperature</th>\n",
       "      <th>kilowatts</th>\n",
       "      <th>time_door_open</th>\n",
       "      <th>content_type</th>\n",
       "      <th>defrost_cycle</th>\n",
       "      <th>oxygen_level</th>\n",
       "      <th>nitrogen_level</th>\n",
       "      <th>humidity_level</th>\n",
       "      <th>carbon_dioxide_level</th>\n",
       "      <th>vent_1</th>\n",
       "      <th>vent_2</th>\n",
       "      <th>vent_3</th>\n",
       "      <th>maintenance_required</th>\n",
       "    </tr>\n",
       "  </thead>\n",
       "  <tbody>\n",
       "    <tr>\n",
       "      <th>0</th>\n",
       "      <td>C01</td>\n",
       "      <td>2019-10-21 21:58:47.778469</td>\n",
       "      <td>P02</td>\n",
       "      <td>6.421550</td>\n",
       "      <td>6</td>\n",
       "      <td>20.875069</td>\n",
       "      <td>5.104784</td>\n",
       "      <td>-0.849733</td>\n",
       "      <td>2</td>\n",
       "      <td>6</td>\n",
       "      <td>22.582955</td>\n",
       "      <td>78.414413</td>\n",
       "      <td>59.751720</td>\n",
       "      <td>2.297364</td>\n",
       "      <td>True</td>\n",
       "      <td>True</td>\n",
       "      <td>True</td>\n",
       "      <td>0</td>\n",
       "    </tr>\n",
       "    <tr>\n",
       "      <th>1</th>\n",
       "      <td>C01</td>\n",
       "      <td>2019-10-21 22:03:47.778469</td>\n",
       "      <td>P02</td>\n",
       "      <td>5.856868</td>\n",
       "      <td>6</td>\n",
       "      <td>21.128387</td>\n",
       "      <td>5.122725</td>\n",
       "      <td>0.617787</td>\n",
       "      <td>2</td>\n",
       "      <td>5</td>\n",
       "      <td>21.501824</td>\n",
       "      <td>78.449830</td>\n",
       "      <td>61.570283</td>\n",
       "      <td>3.782031</td>\n",
       "      <td>True</td>\n",
       "      <td>True</td>\n",
       "      <td>True</td>\n",
       "      <td>0</td>\n",
       "    </tr>\n",
       "    <tr>\n",
       "      <th>2</th>\n",
       "      <td>C01</td>\n",
       "      <td>2019-10-21 22:08:47.778469</td>\n",
       "      <td>P02</td>\n",
       "      <td>5.656720</td>\n",
       "      <td>6</td>\n",
       "      <td>21.171572</td>\n",
       "      <td>2.829637</td>\n",
       "      <td>2.119314</td>\n",
       "      <td>2</td>\n",
       "      <td>6</td>\n",
       "      <td>20.104576</td>\n",
       "      <td>77.771802</td>\n",
       "      <td>61.443443</td>\n",
       "      <td>5.868899</td>\n",
       "      <td>True</td>\n",
       "      <td>True</td>\n",
       "      <td>True</td>\n",
       "      <td>0</td>\n",
       "    </tr>\n",
       "    <tr>\n",
       "      <th>3</th>\n",
       "      <td>C01</td>\n",
       "      <td>2019-10-21 22:13:47.778469</td>\n",
       "      <td>P02</td>\n",
       "      <td>6.053072</td>\n",
       "      <td>6</td>\n",
       "      <td>20.665113</td>\n",
       "      <td>1.987387</td>\n",
       "      <td>1.103350</td>\n",
       "      <td>2</td>\n",
       "      <td>4</td>\n",
       "      <td>19.039297</td>\n",
       "      <td>75.704534</td>\n",
       "      <td>60.300971</td>\n",
       "      <td>4.518827</td>\n",
       "      <td>True</td>\n",
       "      <td>True</td>\n",
       "      <td>True</td>\n",
       "      <td>0</td>\n",
       "    </tr>\n",
       "    <tr>\n",
       "      <th>4</th>\n",
       "      <td>C01</td>\n",
       "      <td>2019-10-21 22:18:47.778469</td>\n",
       "      <td>P02</td>\n",
       "      <td>6.409696</td>\n",
       "      <td>6</td>\n",
       "      <td>21.025121</td>\n",
       "      <td>2.898705</td>\n",
       "      <td>0.861419</td>\n",
       "      <td>2</td>\n",
       "      <td>5</td>\n",
       "      <td>21.075411</td>\n",
       "      <td>78.685539</td>\n",
       "      <td>59.725525</td>\n",
       "      <td>4.676924</td>\n",
       "      <td>True</td>\n",
       "      <td>True</td>\n",
       "      <td>True</td>\n",
       "      <td>0</td>\n",
       "    </tr>\n",
       "  </tbody>\n",
       "</table>\n",
       "</div>"
      ],
      "text/plain": [
       "  container_id            measurement_time product_id  temperature  \\\n",
       "0          C01  2019-10-21 21:58:47.778469        P02     6.421550   \n",
       "1          C01  2019-10-21 22:03:47.778469        P02     5.856868   \n",
       "2          C01  2019-10-21 22:08:47.778469        P02     5.656720   \n",
       "3          C01  2019-10-21 22:13:47.778469        P02     6.053072   \n",
       "4          C01  2019-10-21 22:18:47.778469        P02     6.409696   \n",
       "\n",
       "   target_temperature  ambiant_temperature  kilowatts  time_door_open  \\\n",
       "0                   6            20.875069   5.104784       -0.849733   \n",
       "1                   6            21.128387   5.122725        0.617787   \n",
       "2                   6            21.171572   2.829637        2.119314   \n",
       "3                   6            20.665113   1.987387        1.103350   \n",
       "4                   6            21.025121   2.898705        0.861419   \n",
       "\n",
       "   content_type  defrost_cycle  oxygen_level  nitrogen_level  humidity_level  \\\n",
       "0             2              6     22.582955       78.414413       59.751720   \n",
       "1             2              5     21.501824       78.449830       61.570283   \n",
       "2             2              6     20.104576       77.771802       61.443443   \n",
       "3             2              4     19.039297       75.704534       60.300971   \n",
       "4             2              5     21.075411       78.685539       59.725525   \n",
       "\n",
       "   carbon_dioxide_level  vent_1  vent_2  vent_3  maintenance_required  \n",
       "0              2.297364    True    True    True                     0  \n",
       "1              3.782031    True    True    True                     0  \n",
       "2              5.868899    True    True    True                     0  \n",
       "3              4.518827    True    True    True                     0  \n",
       "4              4.676924    True    True    True                     0  "
      ]
     },
     "execution_count": 13,
     "metadata": {},
     "output_type": "execute_result"
    }
   ],
   "source": [
    "data = pd.read_csv('./data/telemetries.csv', delimiter=\",\")\n",
    "data.head()"
   ]
  },
  {
   "cell_type": "code",
   "execution_count": 14,
   "metadata": {},
   "outputs": [
    {
     "data": {
      "text/plain": [
       "array([[22.58295532,  2.29736381],\n",
       "       [21.50182357,  3.78203147],\n",
       "       [20.10457641,  5.86889923],\n",
       "       [19.03929675,  4.51882709],\n",
       "       [21.07541133,  4.67692364]])"
      ]
     },
     "execution_count": 14,
     "metadata": {},
     "output_type": "execute_result"
    }
   ],
   "source": [
    "# Convert dataset into array for the independent variables (features)\n",
    "X = np.asarray(data[['oxygen_level','carbon_dioxide_level']])\n",
    "X[0:5]"
   ]
  },
  {
   "cell_type": "code",
   "execution_count": 17,
   "metadata": {},
   "outputs": [
    {
     "data": {
      "text/plain": [
       "array([[ 1.16463912, -1.37615722],\n",
       "       [ 0.41603848, -0.23052444],\n",
       "       [-0.55144779,  1.37979157],\n",
       "       [-1.28907208,  0.33801842],\n",
       "       [ 0.12078078,  0.46001245]])"
      ]
     },
     "execution_count": 17,
     "metadata": {},
     "output_type": "execute_result"
    }
   ],
   "source": [
    "# Normalize/standardize (mean = 0 and standard deviation = 1) \n",
    "# your features before applying machine learning techniques.\n",
    "from sklearn import preprocessing\n",
    "X = preprocessing.StandardScaler().fit(X).transform(X)\n",
    "X[0:5]"
   ]
  },
  {
   "cell_type": "code",
   "execution_count": 20,
   "metadata": {},
   "outputs": [
    {
     "name": "stdout",
     "output_type": "stream",
     "text": [
      "[ 1  1  1 ...  1  1 -1]\n"
     ]
    },
    {
     "name": "stderr",
     "output_type": "stream",
     "text": [
      "/opt/conda/lib/python3.7/site-packages/sklearn/neighbors/lof.py:236: FutureWarning: default contamination parameter 0.1 will change in version 0.22 to \"auto\". This will change the predict method behavior.\n",
      "  FutureWarning)\n"
     ]
    }
   ],
   "source": [
    "# fit the model\n",
    "clf = LocalOutlierFactor(n_neighbors=20)\n",
    "# Label is 1 for an inlier and -1 for an outlier according to the LOF score and the contamination parameter.\n",
    "y_pred = clf.fit_predict(X)\n",
    "y_pred_outliers = y_pred[200:]\n",
    "print(y_pred_outliers)"
   ]
  },
  {
   "cell_type": "code",
   "execution_count": 19,
   "metadata": {},
   "outputs": [
    {
     "data": {
      "image/png": "[encoded data removed]",
      "text/plain": [
       "<Figure size 432x288 with 1 Axes>"
      ]
     },
     "metadata": {
      "needs_background": "light"
     },
     "output_type": "display_data"
    }
   ],
   "source": [
    "# plot the level sets of the decision function\n",
    "# Build coordinate matrices\n",
    "xx, yy = np.meshgrid(np.linspace(-10, 10, 500), np.linspace(-10, 10, 500))\n",
    "Z = clf._decision_function(np.c_[xx.ravel(), yy.ravel()])\n",
    "Z = Z.reshape(xx.shape)\n",
    "\n",
    "plt.title(\"Local Outlier Factor (LOF)\")\n",
    "plt.contourf(xx, yy, Z, cmap=plt.cm.Blues_r)\n",
    "\n",
    "a = plt.scatter(X[:500, 0], X[:500, 1], c='white',\n",
    "                edgecolor='k', s=20)\n",
    "b = plt.scatter(X[500:, 0], X[500:, 1], c='red',\n",
    "                edgecolor='k', s=20)\n",
    "plt.axis('tight')\n",
    "plt.xlim((-10, 10))\n",
    "plt.ylim((-10, 10))\n",
    "plt.legend([a, b],\n",
    "           [\"normal observations\",\n",
    "            \"abnormal observations\"],\n",
    "           loc=\"upper left\")\n",
    "plt.show()"
   ]
  },
  {
   "cell_type": "code",
   "execution_count": null,
   "metadata": {},
   "outputs": [],
   "source": []
  }
 ],
 "metadata": {
  "kernelspec": {
   "display_name": "Python 3",
   "language": "python",
   "name": "python3"
  },
  "language_info": {
   "codemirror_mode": {
    "name": "ipython",
    "version": 3
   },
   "file_extension": ".py",
   "mimetype": "text/x-python",
   "name": "python",
   "nbconvert_exporter": "python",
   "pygments_lexer": "ipython3",
   "version": "3.7.3"
  }
 },
 "nbformat": 4,
 "nbformat_minor": 2
}
