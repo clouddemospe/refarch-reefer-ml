{
 "cells": [
  {
   "cell_type": "code",
   "execution_count": 1,
   "metadata": {},
   "outputs": [],
   "source": [
    "import os\n",
    "from os import path\n",
    "import pandas as pd\n",
    "import numpy as np\n",
    "from matplotlib import pyplot as plot\n",
    "import seaborn as sbn\n",
    "sbn.set()\n",
    "%matplotlib inline"
   ]
  },
  {
   "cell_type": "code",
   "execution_count": 2,
   "metadata": {},
   "outputs": [],
   "source": [
    "from sklearn.preprocessing import MinMaxScaler\n",
    "from sklearn.preprocessing import StandardScaler\n",
    "from sklearn.preprocessing import RobustScaler\n",
    "from sklearn.preprocessing import Normalizer\n",
    "from sklearn.preprocessing import MaxAbsScaler\n",
    "from sklearn.preprocessing import OneHotEncoder\n",
    "from sklearn.svm import OneClassSVM\n",
    "from sklearn.ensemble import IsolationForest\n",
    "from sklearn.covariance import (EllipticEnvelope, EmpiricalCovariance)\n",
    "from sklearn.neighbors import LocalOutlierFactor \n",
    "from sklearn.pipeline import make_pipeline\n",
    "from sklearn.pipeline import Pipeline"
   ]
  },
  {
   "cell_type": "code",
   "execution_count": 5,
   "metadata": {},
   "outputs": [
    {
     "data": {
      "text/html": [
       "<div>\n",
       "<style scoped>\n",
       "    .dataframe tbody tr th:only-of-type {\n",
       "        vertical-align: middle;\n",
       "    }\n",
       "\n",
       "    .dataframe tbody tr th {\n",
       "        vertical-align: top;\n",
       "    }\n",
       "\n",
       "    .dataframe thead th {\n",
       "        text-align: right;\n",
       "    }\n",
       "</style>\n",
       "<table border=\"1\" class=\"dataframe\">\n",
       "  <thead>\n",
       "    <tr style=\"text-align: right;\">\n",
       "      <th></th>\n",
       "      <th>container_id</th>\n",
       "      <th>measurement_time</th>\n",
       "      <th>product_id</th>\n",
       "      <th>temperature</th>\n",
       "      <th>target_temperature</th>\n",
       "      <th>ambiant_temperature</th>\n",
       "      <th>kilowatts</th>\n",
       "      <th>time_door_open</th>\n",
       "      <th>content_type</th>\n",
       "      <th>defrost_cycle</th>\n",
       "      <th>oxygen_level</th>\n",
       "      <th>nitrogen_level</th>\n",
       "      <th>humidity_level</th>\n",
       "      <th>carbon_dioxide_level</th>\n",
       "      <th>vent_1</th>\n",
       "      <th>vent_2</th>\n",
       "      <th>vent_3</th>\n",
       "      <th>maintenance_required</th>\n",
       "    </tr>\n",
       "  </thead>\n",
       "  <tbody>\n",
       "    <tr>\n",
       "      <th>0</th>\n",
       "      <td>C01</td>\n",
       "      <td>2019-10-21 21:58:47.778469</td>\n",
       "      <td>P02</td>\n",
       "      <td>6.421550</td>\n",
       "      <td>6</td>\n",
       "      <td>20.875069</td>\n",
       "      <td>5.104784</td>\n",
       "      <td>-0.849733</td>\n",
       "      <td>2</td>\n",
       "      <td>6</td>\n",
       "      <td>22.582955</td>\n",
       "      <td>78.414413</td>\n",
       "      <td>59.751720</td>\n",
       "      <td>2.297364</td>\n",
       "      <td>True</td>\n",
       "      <td>True</td>\n",
       "      <td>True</td>\n",
       "      <td>0</td>\n",
       "    </tr>\n",
       "    <tr>\n",
       "      <th>1</th>\n",
       "      <td>C01</td>\n",
       "      <td>2019-10-21 22:03:47.778469</td>\n",
       "      <td>P02</td>\n",
       "      <td>5.856868</td>\n",
       "      <td>6</td>\n",
       "      <td>21.128387</td>\n",
       "      <td>5.122725</td>\n",
       "      <td>0.617787</td>\n",
       "      <td>2</td>\n",
       "      <td>5</td>\n",
       "      <td>21.501824</td>\n",
       "      <td>78.449830</td>\n",
       "      <td>61.570283</td>\n",
       "      <td>3.782031</td>\n",
       "      <td>True</td>\n",
       "      <td>True</td>\n",
       "      <td>True</td>\n",
       "      <td>0</td>\n",
       "    </tr>\n",
       "    <tr>\n",
       "      <th>2</th>\n",
       "      <td>C01</td>\n",
       "      <td>2019-10-21 22:08:47.778469</td>\n",
       "      <td>P02</td>\n",
       "      <td>5.656720</td>\n",
       "      <td>6</td>\n",
       "      <td>21.171572</td>\n",
       "      <td>2.829637</td>\n",
       "      <td>2.119314</td>\n",
       "      <td>2</td>\n",
       "      <td>6</td>\n",
       "      <td>20.104576</td>\n",
       "      <td>77.771802</td>\n",
       "      <td>61.443443</td>\n",
       "      <td>5.868899</td>\n",
       "      <td>True</td>\n",
       "      <td>True</td>\n",
       "      <td>True</td>\n",
       "      <td>0</td>\n",
       "    </tr>\n",
       "    <tr>\n",
       "      <th>3</th>\n",
       "      <td>C01</td>\n",
       "      <td>2019-10-21 22:13:47.778469</td>\n",
       "      <td>P02</td>\n",
       "      <td>6.053072</td>\n",
       "      <td>6</td>\n",
       "      <td>20.665113</td>\n",
       "      <td>1.987387</td>\n",
       "      <td>1.103350</td>\n",
       "      <td>2</td>\n",
       "      <td>4</td>\n",
       "      <td>19.039297</td>\n",
       "      <td>75.704534</td>\n",
       "      <td>60.300971</td>\n",
       "      <td>4.518827</td>\n",
       "      <td>True</td>\n",
       "      <td>True</td>\n",
       "      <td>True</td>\n",
       "      <td>0</td>\n",
       "    </tr>\n",
       "    <tr>\n",
       "      <th>4</th>\n",
       "      <td>C01</td>\n",
       "      <td>2019-10-21 22:18:47.778469</td>\n",
       "      <td>P02</td>\n",
       "      <td>6.409696</td>\n",
       "      <td>6</td>\n",
       "      <td>21.025121</td>\n",
       "      <td>2.898705</td>\n",
       "      <td>0.861419</td>\n",
       "      <td>2</td>\n",
       "      <td>5</td>\n",
       "      <td>21.075411</td>\n",
       "      <td>78.685539</td>\n",
       "      <td>59.725525</td>\n",
       "      <td>4.676924</td>\n",
       "      <td>True</td>\n",
       "      <td>True</td>\n",
       "      <td>True</td>\n",
       "      <td>0</td>\n",
       "    </tr>\n",
       "  </tbody>\n",
       "</table>\n",
       "</div>"
      ],
      "text/plain": [
       "  container_id           measurement_time product_id  temperature  \\\n",
       "0          C01 2019-10-21 21:58:47.778469        P02     6.421550   \n",
       "1          C01 2019-10-21 22:03:47.778469        P02     5.856868   \n",
       "2          C01 2019-10-21 22:08:47.778469        P02     5.656720   \n",
       "3          C01 2019-10-21 22:13:47.778469        P02     6.053072   \n",
       "4          C01 2019-10-21 22:18:47.778469        P02     6.409696   \n",
       "\n",
       "   target_temperature  ambiant_temperature  kilowatts  time_door_open  \\\n",
       "0                   6            20.875069   5.104784       -0.849733   \n",
       "1                   6            21.128387   5.122725        0.617787   \n",
       "2                   6            21.171572   2.829637        2.119314   \n",
       "3                   6            20.665113   1.987387        1.103350   \n",
       "4                   6            21.025121   2.898705        0.861419   \n",
       "\n",
       "   content_type  defrost_cycle  oxygen_level  nitrogen_level  humidity_level  \\\n",
       "0             2              6     22.582955       78.414413       59.751720   \n",
       "1             2              5     21.501824       78.449830       61.570283   \n",
       "2             2              6     20.104576       77.771802       61.443443   \n",
       "3             2              4     19.039297       75.704534       60.300971   \n",
       "4             2              5     21.075411       78.685539       59.725525   \n",
       "\n",
       "   carbon_dioxide_level  vent_1  vent_2  vent_3  maintenance_required  \n",
       "0              2.297364    True    True    True                     0  \n",
       "1              3.782031    True    True    True                     0  \n",
       "2              5.868899    True    True    True                     0  \n",
       "3              4.518827    True    True    True                     0  \n",
       "4              4.676924    True    True    True                     0  "
      ]
     },
     "execution_count": 5,
     "metadata": {},
     "output_type": "execute_result"
    }
   ],
   "source": [
    "curr_dir = os.getcwd()\n",
    "df_telemetry_data = pd.read_csv(path.join(curr_dir,'data/telemetries.csv'),parse_dates=['measurement_time'])\n",
    "df_telemetry_data.head()"
   ]
  },
  {
   "cell_type": "code",
   "execution_count": 6,
   "metadata": {},
   "outputs": [
    {
     "data": {
      "text/plain": [
       "Index(['container_id', 'measurement_time', 'product_id', 'temperature',\n",
       "       'target_temperature', 'ambiant_temperature', 'kilowatts',\n",
       "       'time_door_open', 'content_type', 'defrost_cycle', 'oxygen_level',\n",
       "       'nitrogen_level', 'humidity_level', 'carbon_dioxide_level', 'vent_1',\n",
       "       'vent_2', 'vent_3', 'maintenance_required'],\n",
       "      dtype='object')"
      ]
     },
     "execution_count": 6,
     "metadata": {},
     "output_type": "execute_result"
    }
   ],
   "source": [
    "df_telemetry_data.columns"
   ]
  },
  {
   "cell_type": "code",
   "execution_count": 7,
   "metadata": {},
   "outputs": [
    {
     "data": {
      "text/plain": [
       "container_id                    object\n",
       "measurement_time        datetime64[ns]\n",
       "product_id                      object\n",
       "temperature                    float64\n",
       "target_temperature               int64\n",
       "ambiant_temperature            float64\n",
       "kilowatts                      float64\n",
       "time_door_open                 float64\n",
       "content_type                     int64\n",
       "defrost_cycle                    int64\n",
       "oxygen_level                   float64\n",
       "nitrogen_level                 float64\n",
       "humidity_level                 float64\n",
       "carbon_dioxide_level           float64\n",
       "vent_1                            bool\n",
       "vent_2                            bool\n",
       "vent_3                            bool\n",
       "maintenance_required             int64\n",
       "dtype: object"
      ]
     },
     "execution_count": 7,
     "metadata": {},
     "output_type": "execute_result"
    }
   ],
   "source": [
    "df_telemetry_data.dtypes"
   ]
  },
  {
   "cell_type": "code",
   "execution_count": 8,
   "metadata": {},
   "outputs": [
    {
     "data": {
      "text/plain": [
       "3    2352\n",
       "4    2265\n",
       "5    2196\n",
       "6    2187\n",
       "Name: defrost_cycle, dtype: int64"
      ]
     },
     "execution_count": 8,
     "metadata": {},
     "output_type": "execute_result"
    }
   ],
   "source": [
    "df_telemetry_data['defrost_cycle'].value_counts()"
   ]
  },
  {
   "cell_type": "code",
   "execution_count": 9,
   "metadata": {},
   "outputs": [
    {
     "name": "stdout",
     "output_type": "stream",
     "text": [
      "(9000, 9)\n"
     ]
    },
    {
     "name": "stderr",
     "output_type": "stream",
     "text": [
      "/opt/conda/lib/python3.7/site-packages/ipykernel_launcher.py:4: SettingWithCopyWarning: \n",
      "A value is trying to be set on a copy of a slice from a DataFrame.\n",
      "Try using .loc[row_indexer,col_indexer] = value instead\n",
      "\n",
      "See the caveats in the documentation: http://pandas.pydata.org/pandas-docs/stable/user_guide/indexing.html#returning-a-view-versus-a-copy\n",
      "  after removing the cwd from sys.path.\n",
      "/opt/conda/lib/python3.7/site-packages/ipykernel_launcher.py:5: SettingWithCopyWarning: \n",
      "A value is trying to be set on a copy of a slice from a DataFrame.\n",
      "Try using .loc[row_indexer,col_indexer] = value instead\n",
      "\n",
      "See the caveats in the documentation: http://pandas.pydata.org/pandas-docs/stable/user_guide/indexing.html#returning-a-view-versus-a-copy\n",
      "  \"\"\"\n",
      "/opt/conda/lib/python3.7/site-packages/pandas/core/frame.py:4097: SettingWithCopyWarning: \n",
      "A value is trying to be set on a copy of a slice from a DataFrame\n",
      "\n",
      "See the caveats in the documentation: http://pandas.pydata.org/pandas-docs/stable/user_guide/indexing.html#returning-a-view-versus-a-copy\n",
      "  errors=errors,\n"
     ]
    },
    {
     "data": {
      "text/html": [
       "<div>\n",
       "<style scoped>\n",
       "    .dataframe tbody tr th:only-of-type {\n",
       "        vertical-align: middle;\n",
       "    }\n",
       "\n",
       "    .dataframe tbody tr th {\n",
       "        vertical-align: top;\n",
       "    }\n",
       "\n",
       "    .dataframe thead th {\n",
       "        text-align: right;\n",
       "    }\n",
       "</style>\n",
       "<table border=\"1\" class=\"dataframe\">\n",
       "  <thead>\n",
       "    <tr style=\"text-align: right;\">\n",
       "      <th></th>\n",
       "      <th>kilowatts</th>\n",
       "      <th>time_door_open</th>\n",
       "      <th>defrost_cycle</th>\n",
       "      <th>oxygen_level</th>\n",
       "      <th>nitrogen_level</th>\n",
       "      <th>humidity_level</th>\n",
       "      <th>carbon_dioxide_level</th>\n",
       "      <th>temperature_difference</th>\n",
       "      <th>temperature_ambient_ratio</th>\n",
       "    </tr>\n",
       "  </thead>\n",
       "  <tbody>\n",
       "    <tr>\n",
       "      <th>0</th>\n",
       "      <td>5.104784</td>\n",
       "      <td>-0.849733</td>\n",
       "      <td>6</td>\n",
       "      <td>22.582955</td>\n",
       "      <td>78.414413</td>\n",
       "      <td>59.751720</td>\n",
       "      <td>2.297364</td>\n",
       "      <td>-0.421550</td>\n",
       "      <td>3.250784</td>\n",
       "    </tr>\n",
       "    <tr>\n",
       "      <th>1</th>\n",
       "      <td>5.122725</td>\n",
       "      <td>0.617787</td>\n",
       "      <td>5</td>\n",
       "      <td>21.501824</td>\n",
       "      <td>78.449830</td>\n",
       "      <td>61.570283</td>\n",
       "      <td>3.782031</td>\n",
       "      <td>0.143132</td>\n",
       "      <td>3.607455</td>\n",
       "    </tr>\n",
       "    <tr>\n",
       "      <th>2</th>\n",
       "      <td>2.829637</td>\n",
       "      <td>2.119314</td>\n",
       "      <td>6</td>\n",
       "      <td>20.104576</td>\n",
       "      <td>77.771802</td>\n",
       "      <td>61.443443</td>\n",
       "      <td>5.868899</td>\n",
       "      <td>0.343280</td>\n",
       "      <td>3.742729</td>\n",
       "    </tr>\n",
       "    <tr>\n",
       "      <th>3</th>\n",
       "      <td>1.987387</td>\n",
       "      <td>1.103350</td>\n",
       "      <td>4</td>\n",
       "      <td>19.039297</td>\n",
       "      <td>75.704534</td>\n",
       "      <td>60.300971</td>\n",
       "      <td>4.518827</td>\n",
       "      <td>-0.053072</td>\n",
       "      <td>3.413988</td>\n",
       "    </tr>\n",
       "    <tr>\n",
       "      <th>4</th>\n",
       "      <td>2.898705</td>\n",
       "      <td>0.861419</td>\n",
       "      <td>5</td>\n",
       "      <td>21.075411</td>\n",
       "      <td>78.685539</td>\n",
       "      <td>59.725525</td>\n",
       "      <td>4.676924</td>\n",
       "      <td>-0.409696</td>\n",
       "      <td>3.280206</td>\n",
       "    </tr>\n",
       "  </tbody>\n",
       "</table>\n",
       "</div>"
      ],
      "text/plain": [
       "   kilowatts  time_door_open  defrost_cycle  oxygen_level  nitrogen_level  \\\n",
       "0   5.104784       -0.849733              6     22.582955       78.414413   \n",
       "1   5.122725        0.617787              5     21.501824       78.449830   \n",
       "2   2.829637        2.119314              6     20.104576       77.771802   \n",
       "3   1.987387        1.103350              4     19.039297       75.704534   \n",
       "4   2.898705        0.861419              5     21.075411       78.685539   \n",
       "\n",
       "   humidity_level  carbon_dioxide_level  temperature_difference  \\\n",
       "0       59.751720              2.297364               -0.421550   \n",
       "1       61.570283              3.782031                0.143132   \n",
       "2       61.443443              5.868899                0.343280   \n",
       "3       60.300971              4.518827               -0.053072   \n",
       "4       59.725525              4.676924               -0.409696   \n",
       "\n",
       "   temperature_ambient_ratio  \n",
       "0                   3.250784  \n",
       "1                   3.607455  \n",
       "2                   3.742729  \n",
       "3                   3.413988  \n",
       "4                   3.280206  "
      ]
     },
     "execution_count": 9,
     "metadata": {},
     "output_type": "execute_result"
    }
   ],
   "source": [
    "df_telemetry_data_training = df_telemetry_data[[ 'temperature','target_temperature', 'ambiant_temperature', 'kilowatts', \\\n",
    "       'time_door_open', 'defrost_cycle', 'oxygen_level', 'nitrogen_level', 'humidity_level', 'carbon_dioxide_level']]\n",
    "df_telemetry_data_training['temperature_difference'] = df_telemetry_data_training['target_temperature'] - \\\n",
    "                                                                                                     df_telemetry_data_training['temperature']\n",
    "df_telemetry_data_training['temperature_ambient_ratio'] = df_telemetry_data_training['ambiant_temperature']/df_telemetry_data_training['temperature']\n",
    "df_telemetry_data_training.drop(['temperature','target_temperature', 'ambiant_temperature'], axis=1, inplace=True)\n",
    "print(df_telemetry_data_training.shape)\n",
    "df_telemetry_data_training.head()"
   ]
  },
  {
   "cell_type": "code",
   "execution_count": 10,
   "metadata": {},
   "outputs": [],
   "source": [
    "ss = StandardScaler()\n",
    "mms = MinMaxScaler()\n",
    "rs = RobustScaler()\n",
    "ocs = OneClassSVM()\n",
    "isf = IsolationForest(n_estimators=100)\n",
    "ee = EllipticEnvelope()\n",
    "ec = EmpiricalCovariance()\n",
    "lof = LocalOutlierFactor(novelty=True) # different from anomaly detection, but can be used to interpret the anomaly"
   ]
  },
  {
   "cell_type": "markdown",
   "metadata": {},
   "source": [
    "#### Isolation Forest "
   ]
  },
  {
   "cell_type": "code",
   "execution_count": 11,
   "metadata": {},
   "outputs": [
    {
     "name": "stderr",
     "output_type": "stream",
     "text": [
      "/opt/conda/lib/python3.7/site-packages/sklearn/ensemble/iforest.py:237: FutureWarning: default contamination parameter 0.1 will change in version 0.22 to \"auto\". This will change the predict method behavior.\n",
      "  FutureWarning)\n",
      "/opt/conda/lib/python3.7/site-packages/sklearn/ensemble/iforest.py:247: FutureWarning: behaviour=\"old\" is deprecated and will be removed in version 0.22. Please use behaviour=\"new\", which makes the decision_function change to match other anomaly detection algorithm API.\n",
      "  FutureWarning)\n"
     ]
    },
    {
     "data": {
      "text/plain": [
       "IsolationForest(behaviour='old', bootstrap=False, contamination='legacy',\n",
       "                max_features=1.0, max_samples='auto', n_estimators=100,\n",
       "                n_jobs=None, random_state=None, verbose=0, warm_start=False)"
      ]
     },
     "execution_count": 11,
     "metadata": {},
     "output_type": "execute_result"
    }
   ],
   "source": [
    "isf.fit(df_telemetry_data_training)"
   ]
  },
  {
   "cell_type": "code",
   "execution_count": 12,
   "metadata": {},
   "outputs": [
    {
     "name": "stderr",
     "output_type": "stream",
     "text": [
      "/opt/conda/lib/python3.7/site-packages/sklearn/ensemble/iforest.py:415: DeprecationWarning: threshold_ attribute is deprecated in 0.20 and will be removed in 0.22.\n",
      "  \" be removed in 0.22.\", DeprecationWarning)\n"
     ]
    },
    {
     "data": {
      "text/plain": [
       "array([-1,  1,  1, ...,  1,  1, -1])"
      ]
     },
     "execution_count": 12,
     "metadata": {},
     "output_type": "execute_result"
    }
   ],
   "source": [
    "isf.predict(df_telemetry_data_training)"
   ]
  },
  {
   "cell_type": "code",
   "execution_count": 13,
   "metadata": {},
   "outputs": [
    {
     "data": {
      "text/plain": [
       "array([-0.51263385, -0.46045511, -0.44751288, ..., -0.41780285,\n",
       "       -0.40040959, -0.52225286])"
      ]
     },
     "execution_count": 13,
     "metadata": {},
     "output_type": "execute_result"
    }
   ],
   "source": [
    "isf.score_samples(df_telemetry_data_training)"
   ]
  },
  {
   "cell_type": "markdown",
   "metadata": {},
   "source": [
    "#### Elliptic Envelope\n",
    "Make sure to check the underlying distribution before using this. Make sure it is a guassian distribution underneath, or project it."
   ]
  },
  {
   "cell_type": "code",
   "execution_count": 14,
   "metadata": {},
   "outputs": [
    {
     "name": "stderr",
     "output_type": "stream",
     "text": [
      "/opt/conda/lib/python3.7/site-packages/sklearn/svm/base.py:193: FutureWarning: The default value of gamma will change from 'auto' to 'scale' in version 0.22 to account better for unscaled features. Set gamma explicitly to 'auto' or 'scale' to avoid this warning.\n",
      "  \"avoid this warning.\", FutureWarning)\n"
     ]
    },
    {
     "data": {
      "text/plain": [
       "OneClassSVM(cache_size=200, coef0=0.0, degree=3, gamma='auto_deprecated',\n",
       "            kernel='rbf', max_iter=-1, nu=0.5, random_state=None,\n",
       "            shrinking=True, tol=0.001, verbose=False)"
      ]
     },
     "execution_count": 14,
     "metadata": {},
     "output_type": "execute_result"
    }
   ],
   "source": [
    "ocs.fit(df_telemetry_data_training)"
   ]
  },
  {
   "cell_type": "code",
   "execution_count": 15,
   "metadata": {},
   "outputs": [
    {
     "data": {
      "text/plain": [
       "array([-1, -1, -1, ...,  1,  1, -1])"
      ]
     },
     "execution_count": 15,
     "metadata": {},
     "output_type": "execute_result"
    }
   ],
   "source": [
    "ocs.predict(df_telemetry_data_training)"
   ]
  },
  {
   "cell_type": "code",
   "execution_count": 16,
   "metadata": {},
   "outputs": [
    {
     "data": {
      "text/plain": [
       "array([305.53504339, 571.98447809, 537.11605012, ..., 784.16205545,\n",
       "       833.80305604, 380.17798776])"
      ]
     },
     "execution_count": 16,
     "metadata": {},
     "output_type": "execute_result"
    }
   ],
   "source": [
    "ocs.score_samples(df_telemetry_data_training)"
   ]
  },
  {
   "cell_type": "markdown",
   "metadata": {},
   "source": [
    "#### Local Outlier Factor"
   ]
  },
  {
   "cell_type": "code",
   "execution_count": 17,
   "metadata": {},
   "outputs": [
    {
     "name": "stderr",
     "output_type": "stream",
     "text": [
      "/opt/conda/lib/python3.7/site-packages/sklearn/neighbors/lof.py:236: FutureWarning: default contamination parameter 0.1 will change in version 0.22 to \"auto\". This will change the predict method behavior.\n",
      "  FutureWarning)\n"
     ]
    },
    {
     "data": {
      "text/plain": [
       "LocalOutlierFactor(algorithm='auto', contamination='legacy', leaf_size=30,\n",
       "                   metric='minkowski', metric_params=None, n_jobs=None,\n",
       "                   n_neighbors=20, novelty=True, p=2)"
      ]
     },
     "execution_count": 17,
     "metadata": {},
     "output_type": "execute_result"
    }
   ],
   "source": [
    "lof.fit(df_telemetry_data_training)"
   ]
  },
  {
   "cell_type": "code",
   "execution_count": 18,
   "metadata": {},
   "outputs": [
    {
     "data": {
      "text/plain": [
       "array([-1.19405577, -1.07520773, -1.08883455, ..., -1.01537208,\n",
       "       -0.97374384, -1.14485316])"
      ]
     },
     "execution_count": 18,
     "metadata": {},
     "output_type": "execute_result"
    }
   ],
   "source": [
    "lof.score_samples(df_telemetry_data_training) # This is incorrect because you need to provide new data, as opposed to training data for novelty detection."
   ]
  },
  {
   "cell_type": "code",
   "execution_count": null,
   "metadata": {},
   "outputs": [],
   "source": []
  }
 ],
 "metadata": {
  "kernelspec": {
   "display_name": "Python 3",
   "language": "python",
   "name": "python3"
  },
  "language_info": {
   "codemirror_mode": {
    "name": "ipython",
    "version": 3
   },
   "file_extension": ".py",
   "mimetype": "text/x-python",
   "name": "python",
   "nbconvert_exporter": "python",
   "pygments_lexer": "ipython3",
   "version": "3.7.3"
  }
 },
 "nbformat": 4,
 "nbformat_minor": 2
}
